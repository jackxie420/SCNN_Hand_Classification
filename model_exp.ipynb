{
 "cells": [
  {
   "cell_type": "markdown",
   "metadata": {},
   "source": [
    "## Prep"
   ]
  },
  {
   "cell_type": "code",
   "execution_count": 2,
   "metadata": {},
   "outputs": [],
   "source": [
    "import csv\n",
    "import pandas as pd\n",
    "import numpy as np\n",
    "from tensorflow import keras\n",
    "from tensorflow.keras.models import Sequential\n",
    "from tensorflow.keras.layers import Dense, Conv1D, MaxPooling1D, BatchNormalization, Dropout\n",
    "from tensorflow.keras.layers import Flatten\n",
    "from tensorflow.keras.datasets import cifar10\n",
    "from sklearn import datasets\n",
    "from tensorflow.keras.utils import to_categorical\n",
    "from sklearn.model_selection import train_test_split\n",
    "from matplotlib import pyplot as plt\n",
    "import seaborn\n",
    "from sklearn.metrics import confusion_matrix\n",
    "import time\n",
    " \n"
   ]
  },
  {
   "cell_type": "markdown",
   "metadata": {},
   "source": [
    "## Read Data"
   ]
  },
  {
   "cell_type": "code",
   "execution_count": 3,
   "metadata": {},
   "outputs": [],
   "source": [
    "letters=[\"a\", \"b\", \"c\", \"d\", \"e\", \"f\", \"g\", \"h\", \"i\", \"j\", \"k\", \"l\", \"m\", \"n\", \"o\", \"p\", \"q\", \"r\", \"s\", \"t\", \"u\", \"v\", \"w\", \"x\", \"y\", \"z\"]\n",
    "directories=[\"dataset1\", \"dataset2\"]\n",
    "#letters=[\"a0\", \"a1\", \"a2\", \"a3\", \"a4\"]\n",
    "#directories=[\"disease_dataset\", \"disease_dataset2\"]\n",
    "\n",
    "data=[]\n",
    "label=[]\n",
    "\n",
    "\n",
    "\n",
    "for dir in directories:\n",
    "    for i in letters:\n",
    "        cur_data=pd.read_csv('/Users/jx/Desktop/Col/ISEF/isef_new_program/my_dataset/'+dir+'/'+i+'.csv')\n",
    "        number_index=letters.index(i)\n",
    "        for se in cur_data.values:\n",
    "            data.append(se)\n",
    "            label.append(number_index)\n",
    "\n",
    "\n",
    "x=data\n",
    "y=label\n",
    "x_train,x_test,y_train,y_test = train_test_split(np.array(x).reshape(-1,63,1),y,test_size=0.1)\n",
    "labels = to_categorical(y_train)\n",
    "\n"
   ]
  },
  {
   "cell_type": "markdown",
   "metadata": {},
   "source": [
    "## Model A"
   ]
  },
  {
   "cell_type": "code",
   "execution_count": 4,
   "metadata": {},
   "outputs": [
    {
     "name": "stderr",
     "output_type": "stream",
     "text": [
      "2022-02-24 21:20:45.449178: I tensorflow/core/platform/cpu_feature_guard.cc:151] This TensorFlow binary is optimized with oneAPI Deep Neural Network Library (oneDNN) to use the following CPU instructions in performance-critical operations:  AVX2 FMA\n",
      "To enable them in other operations, rebuild TensorFlow with the appropriate compiler flags.\n"
     ]
    }
   ],
   "source": [
    "model = Sequential()\n",
    "\n",
    "model.add(Conv1D(filters=32, kernel_size=5, strides=1, activation='relu'))\n",
    "model.add(Conv1D(filters=32, kernel_size=2, strides=1, activation='relu'))\n",
    "model.add(BatchNormalization())\n",
    "model.add(MaxPooling1D(pool_size=2))\n",
    "\n",
    "model.add(Flatten())\n",
    "model.add(Dense(units=64,activation='relu'))\n",
    "model.add(Dense(units=26, activation='softmax'))\n",
    "\n",
    "model.compile(loss='categorical_crossentropy', optimizer='adam', metrics=['accuracy'])"
   ]
  },
  {
   "cell_type": "code",
   "execution_count": 5,
   "metadata": {},
   "outputs": [
    {
     "name": "stdout",
     "output_type": "stream",
     "text": [
      "Epoch 1/10\n",
      "384/384 [==============================] - 4s 9ms/step - loss: 0.5655 - accuracy: 0.8528 - val_loss: 0.6684 - val_accuracy: 0.9802\n",
      "Epoch 2/10\n",
      "384/384 [==============================] - 3s 8ms/step - loss: 0.0611 - accuracy: 0.9853 - val_loss: 0.0377 - val_accuracy: 0.9938\n",
      "Epoch 3/10\n",
      "384/384 [==============================] - 3s 7ms/step - loss: 0.0283 - accuracy: 0.9940 - val_loss: 0.0423 - val_accuracy: 0.9857\n",
      "Epoch 4/10\n",
      "384/384 [==============================] - 3s 7ms/step - loss: 0.0139 - accuracy: 0.9971 - val_loss: 0.0140 - val_accuracy: 0.9974\n",
      "Epoch 5/10\n",
      "384/384 [==============================] - 3s 9ms/step - loss: 0.0134 - accuracy: 0.9969 - val_loss: 0.0131 - val_accuracy: 0.9978\n",
      "Epoch 6/10\n",
      "384/384 [==============================] - 4s 10ms/step - loss: 0.0067 - accuracy: 0.9986 - val_loss: 0.0084 - val_accuracy: 0.9985\n",
      "Epoch 7/10\n",
      "384/384 [==============================] - 3s 7ms/step - loss: 0.0125 - accuracy: 0.9969 - val_loss: 0.0045 - val_accuracy: 0.9989\n",
      "Epoch 8/10\n",
      "384/384 [==============================] - 3s 8ms/step - loss: 0.0064 - accuracy: 0.9986 - val_loss: 0.0046 - val_accuracy: 0.9989\n",
      "Epoch 9/10\n",
      "384/384 [==============================] - 3s 7ms/step - loss: 0.0011 - accuracy: 0.9998 - val_loss: 0.0062 - val_accuracy: 0.9982\n",
      "Epoch 10/10\n",
      "384/384 [==============================] - 3s 8ms/step - loss: 0.0090 - accuracy: 0.9971 - val_loss: 0.0191 - val_accuracy: 0.9949\n",
      "95/95 [==============================] - 0s 2ms/step - loss: 0.0200 - accuracy: 0.9960\n",
      "Model: \"sequential\"\n",
      "_________________________________________________________________\n",
      " Layer (type)                Output Shape              Param #   \n",
      "=================================================================\n",
      " conv1d (Conv1D)             (None, 59, 32)            192       \n",
      "                                                                 \n",
      " conv1d_1 (Conv1D)           (None, 58, 32)            2080      \n",
      "                                                                 \n",
      " batch_normalization (BatchN  (None, 58, 32)           128       \n",
      " ormalization)                                                   \n",
      "                                                                 \n",
      " max_pooling1d (MaxPooling1D  (None, 29, 32)           0         \n",
      " )                                                               \n",
      "                                                                 \n",
      " flatten (Flatten)           (None, 928)               0         \n",
      "                                                                 \n",
      " dense (Dense)               (None, 64)                59456     \n",
      "                                                                 \n",
      " dense_1 (Dense)             (None, 26)                1690      \n",
      "                                                                 \n",
      "=================================================================\n",
      "Total params: 63,546\n",
      "Trainable params: 63,482\n",
      "Non-trainable params: 64\n",
      "_________________________________________________________________\n",
      "[0.020015349611639977, 0.9960370063781738]\n"
     ]
    }
   ],
   "source": [
    "#Training\n",
    "\n",
    "history = model.fit(x_train, labels, epochs=10, batch_size=64, validation_split=0.1)\n",
    "\n",
    "y_cat_test= to_categorical(y_test)\n",
    "\n",
    "loss_and_metrics = model.evaluate(x_test, y_cat_test)\n",
    "\n",
    "model.summary()\n",
    "\n",
    "#model.save(\"model_1.h5\")\n",
    "\n",
    "print(loss_and_metrics)"
   ]
  },
  {
   "cell_type": "markdown",
   "metadata": {},
   "source": [
    "## Model B"
   ]
  },
  {
   "cell_type": "code",
   "execution_count": 40,
   "metadata": {},
   "outputs": [],
   "source": [
    "model = Sequential()\n",
    "\n",
    "model.add(Conv1D(filters=32, kernel_size=5, strides=1, activation='relu'))\n",
    "model.add(Conv1D(filters=32, kernel_size=2, strides=1, activation='relu'))\n",
    "model.add(BatchNormalization())\n",
    "model.add(MaxPooling1D(pool_size=2))\n",
    "\n",
    "model.add(Flatten())\n",
    "model.add(Dense(units=64,activation='relu'))\n",
    "model.add(Dropout(0.1))\n",
    "model.add(Dense(units=26, activation='softmax'))\n",
    "\n",
    "model.compile(loss='categorical_crossentropy', optimizer='adam', metrics=['accuracy'])"
   ]
  },
  {
   "cell_type": "code",
   "execution_count": 41,
   "metadata": {},
   "outputs": [
    {
     "name": "stdout",
     "output_type": "stream",
     "text": [
      "Epoch 1/10\n",
      "384/384 [==============================] - 4s 8ms/step - loss: 0.7032 - accuracy: 0.7961 - val_loss: 0.8352 - val_accuracy: 0.9769\n",
      "Epoch 2/10\n",
      "384/384 [==============================] - 3s 7ms/step - loss: 0.1105 - accuracy: 0.9684 - val_loss: 0.0446 - val_accuracy: 0.9934\n",
      "Epoch 3/10\n",
      "384/384 [==============================] - 3s 7ms/step - loss: 0.0549 - accuracy: 0.9845 - val_loss: 0.0302 - val_accuracy: 0.9927\n",
      "Epoch 4/10\n",
      "384/384 [==============================] - 3s 7ms/step - loss: 0.0334 - accuracy: 0.9916 - val_loss: 0.0128 - val_accuracy: 0.9971\n",
      "Epoch 5/10\n",
      "384/384 [==============================] - 3s 7ms/step - loss: 0.0233 - accuracy: 0.9945 - val_loss: 0.0173 - val_accuracy: 0.9971\n",
      "Epoch 6/10\n",
      "384/384 [==============================] - 3s 7ms/step - loss: 0.0203 - accuracy: 0.9942 - val_loss: 0.0064 - val_accuracy: 0.9989\n",
      "Epoch 7/10\n",
      "384/384 [==============================] - 3s 7ms/step - loss: 0.0167 - accuracy: 0.9959 - val_loss: 0.0076 - val_accuracy: 0.9982\n",
      "Epoch 8/10\n",
      "384/384 [==============================] - 3s 7ms/step - loss: 0.0138 - accuracy: 0.9957 - val_loss: 0.0124 - val_accuracy: 0.9971\n",
      "Epoch 9/10\n",
      "384/384 [==============================] - 3s 7ms/step - loss: 0.0121 - accuracy: 0.9962 - val_loss: 0.0063 - val_accuracy: 0.9989\n",
      "Epoch 10/10\n",
      "384/384 [==============================] - 3s 7ms/step - loss: 0.0119 - accuracy: 0.9967 - val_loss: 0.0084 - val_accuracy: 0.9971\n",
      "95/95 [==============================] - 0s 2ms/step - loss: 0.0085 - accuracy: 0.9977\n",
      "Model: \"sequential_1\"\n",
      "_________________________________________________________________\n",
      " Layer (type)                Output Shape              Param #   \n",
      "=================================================================\n",
      " conv1d_2 (Conv1D)           (None, 59, 32)            192       \n",
      "                                                                 \n",
      " conv1d_3 (Conv1D)           (None, 58, 32)            2080      \n",
      "                                                                 \n",
      " batch_normalization_1 (Batc  (None, 58, 32)           128       \n",
      " hNormalization)                                                 \n",
      "                                                                 \n",
      " max_pooling1d_1 (MaxPooling  (None, 29, 32)           0         \n",
      " 1D)                                                             \n",
      "                                                                 \n",
      " flatten_1 (Flatten)         (None, 928)               0         \n",
      "                                                                 \n",
      " dense_2 (Dense)             (None, 64)                59456     \n",
      "                                                                 \n",
      " dropout (Dropout)           (None, 64)                0         \n",
      "                                                                 \n",
      " dense_3 (Dense)             (None, 26)                1690      \n",
      "                                                                 \n",
      "=================================================================\n",
      "Total params: 63,546\n",
      "Trainable params: 63,482\n",
      "Non-trainable params: 64\n",
      "_________________________________________________________________\n",
      "[0.008471937850117683, 0.9976882338523865]\n"
     ]
    }
   ],
   "source": [
    "#Training\n",
    "\n",
    "history = model.fit(x_train, labels, epochs=10, batch_size=64, validation_split=0.1)\n",
    "\n",
    "y_cat_test= to_categorical(y_test)\n",
    "\n",
    "loss_and_metrics = model.evaluate(x_test, y_cat_test)\n",
    "\n",
    "model.summary()\n",
    "\n",
    "#model.save(\"model_1.h5\")\n",
    "\n",
    "print(loss_and_metrics)"
   ]
  },
  {
   "cell_type": "markdown",
   "metadata": {},
   "source": [
    "## Model C"
   ]
  },
  {
   "cell_type": "code",
   "execution_count": 45,
   "metadata": {},
   "outputs": [],
   "source": [
    "model = Sequential()\n",
    "\n",
    "model.add(Conv1D(filters=32, kernel_size=5, strides=1, activation='relu'))\n",
    "model.add(Conv1D(filters=32, kernel_size=2, strides=1, activation='relu'))\n",
    "model.add(BatchNormalization())\n",
    "model.add(MaxPooling1D(pool_size=2))\n",
    "\n",
    "model.add(Conv1D(filters=16, kernel_size=4, strides=1, activation='relu'))\n",
    "model.add(Conv1D(filters=16, kernel_size=2, strides=1, activation='relu'))\n",
    "model.add(BatchNormalization())\n",
    "model.add(MaxPooling1D(pool_size=2))\n",
    "\n",
    "model.add(Flatten())\n",
    "model.add(Dense(units=64,activation='relu'))\n",
    "model.add(Dropout(0.1))\n",
    "model.add(Dense(units=26, activation='softmax'))\n",
    "\n",
    "model.compile(loss='categorical_crossentropy', optimizer='adam', metrics=['accuracy'])\n"
   ]
  },
  {
   "cell_type": "code",
   "execution_count": 47,
   "metadata": {},
   "outputs": [
    {
     "name": "stdout",
     "output_type": "stream",
     "text": [
      "Epoch 1/10\n",
      "384/384 [==============================] - 6s 12ms/step - loss: 0.5648 - accuracy: 0.8455 - val_loss: 2.6679 - val_accuracy: 0.2547\n",
      "Epoch 2/10\n",
      "384/384 [==============================] - 4s 11ms/step - loss: 0.0495 - accuracy: 0.9882 - val_loss: 0.0193 - val_accuracy: 0.9963\n",
      "Epoch 3/10\n",
      "384/384 [==============================] - 4s 10ms/step - loss: 0.0203 - accuracy: 0.9954 - val_loss: 0.0306 - val_accuracy: 0.9919\n",
      "Epoch 4/10\n",
      "384/384 [==============================] - 4s 10ms/step - loss: 0.0149 - accuracy: 0.9967 - val_loss: 0.0434 - val_accuracy: 0.9879\n",
      "Epoch 5/10\n",
      "384/384 [==============================] - 4s 10ms/step - loss: 0.0129 - accuracy: 0.9965 - val_loss: 0.0052 - val_accuracy: 0.9985\n",
      "Epoch 6/10\n",
      "384/384 [==============================] - 4s 10ms/step - loss: 0.0084 - accuracy: 0.9976 - val_loss: 0.0090 - val_accuracy: 0.9982\n",
      "Epoch 7/10\n",
      "384/384 [==============================] - 4s 10ms/step - loss: 0.0102 - accuracy: 0.9974 - val_loss: 0.3788 - val_accuracy: 0.8807\n",
      "Epoch 8/10\n",
      "384/384 [==============================] - 4s 11ms/step - loss: 0.0128 - accuracy: 0.9962 - val_loss: 0.0668 - val_accuracy: 0.9794\n",
      "Epoch 9/10\n",
      "384/384 [==============================] - 4s 10ms/step - loss: 0.0055 - accuracy: 0.9984 - val_loss: 0.0443 - val_accuracy: 0.9831\n",
      "Epoch 10/10\n",
      "384/384 [==============================] - 4s 10ms/step - loss: 0.0035 - accuracy: 0.9991 - val_loss: 0.0053 - val_accuracy: 0.9993\n",
      "95/95 [==============================] - 0s 2ms/step - loss: 0.0064 - accuracy: 0.9987\n",
      "Model: \"sequential_2\"\n",
      "_________________________________________________________________\n",
      " Layer (type)                Output Shape              Param #   \n",
      "=================================================================\n",
      " conv1d_4 (Conv1D)           (None, 59, 32)            192       \n",
      "                                                                 \n",
      " conv1d_5 (Conv1D)           (None, 58, 32)            2080      \n",
      "                                                                 \n",
      " batch_normalization_2 (Batc  (None, 58, 32)           128       \n",
      " hNormalization)                                                 \n",
      "                                                                 \n",
      " max_pooling1d_2 (MaxPooling  (None, 29, 32)           0         \n",
      " 1D)                                                             \n",
      "                                                                 \n",
      " conv1d_6 (Conv1D)           (None, 26, 16)            2064      \n",
      "                                                                 \n",
      " conv1d_7 (Conv1D)           (None, 25, 16)            528       \n",
      "                                                                 \n",
      " batch_normalization_3 (Batc  (None, 25, 16)           64        \n",
      " hNormalization)                                                 \n",
      "                                                                 \n",
      " max_pooling1d_3 (MaxPooling  (None, 12, 16)           0         \n",
      " 1D)                                                             \n",
      "                                                                 \n",
      " flatten_2 (Flatten)         (None, 192)               0         \n",
      "                                                                 \n",
      " dense_4 (Dense)             (None, 64)                12352     \n",
      "                                                                 \n",
      " dropout_1 (Dropout)         (None, 64)                0         \n",
      "                                                                 \n",
      " dense_5 (Dense)             (None, 26)                1690      \n",
      "                                                                 \n",
      "=================================================================\n",
      "Total params: 19,098\n",
      "Trainable params: 19,002\n",
      "Non-trainable params: 96\n",
      "_________________________________________________________________\n",
      "[0.006355496123433113, 0.998678982257843]\n"
     ]
    }
   ],
   "source": [
    "#Training\n",
    "\n",
    "history = model.fit(x_train, labels, epochs=10, batch_size=64, validation_split=0.1)\n",
    "\n",
    "y_cat_test= to_categorical(y_test)\n",
    "\n",
    "loss_and_metrics = model.evaluate(x_test, y_cat_test)\n",
    "\n",
    "model.summary()\n",
    "\n",
    "#model.save(\"model_1.h5\")\n",
    "\n",
    "print(loss_and_metrics)"
   ]
  },
  {
   "cell_type": "code",
   "execution_count": 36,
   "metadata": {},
   "outputs": [],
   "source": [
    "#model.save(\"disease_model_.h5\")"
   ]
  },
  {
   "cell_type": "markdown",
   "metadata": {},
   "source": [
    "## Model D"
   ]
  },
  {
   "cell_type": "code",
   "execution_count": 68,
   "metadata": {},
   "outputs": [],
   "source": [
    "\n",
    "\n",
    "model = Sequential()\n",
    "\n",
    "model.add(Dense(units=64,activation='relu'))\n",
    "model.add(Dropout(0.1))\n",
    "model.add(Dense(units=26, activation='softmax'))\n",
    "\n",
    "model.compile(loss='categorical_crossentropy', optimizer='adam', metrics=['accuracy'])"
   ]
  },
  {
   "cell_type": "code",
   "execution_count": 69,
   "metadata": {},
   "outputs": [
    {
     "name": "stdout",
     "output_type": "stream",
     "text": [
      "Epoch 1/10\n",
      "384/384 [==============================] - 1s 2ms/step - loss: 2.9184 - accuracy: 0.2450 - val_loss: 2.4360 - val_accuracy: 0.5420\n",
      "Epoch 2/10\n",
      "384/384 [==============================] - 1s 1ms/step - loss: 2.0072 - accuracy: 0.5506 - val_loss: 1.5914 - val_accuracy: 0.7240\n",
      "Epoch 3/10\n",
      "384/384 [==============================] - 0s 1ms/step - loss: 1.3896 - accuracy: 0.6892 - val_loss: 1.1427 - val_accuracy: 0.7794\n",
      "Epoch 4/10\n",
      "384/384 [==============================] - 1s 2ms/step - loss: 1.0606 - accuracy: 0.7586 - val_loss: 0.8943 - val_accuracy: 0.8172\n",
      "Epoch 5/10\n",
      "384/384 [==============================] - 0s 1ms/step - loss: 0.8680 - accuracy: 0.7959 - val_loss: 0.7287 - val_accuracy: 0.8514\n",
      "Epoch 6/10\n",
      "384/384 [==============================] - 1s 2ms/step - loss: 0.7330 - accuracy: 0.8259 - val_loss: 0.6235 - val_accuracy: 0.8683\n",
      "Epoch 7/10\n",
      "384/384 [==============================] - 1s 1ms/step - loss: 0.6385 - accuracy: 0.8464 - val_loss: 0.5390 - val_accuracy: 0.8969\n",
      "Epoch 8/10\n",
      "384/384 [==============================] - 1s 1ms/step - loss: 0.5610 - accuracy: 0.8654 - val_loss: 0.4696 - val_accuracy: 0.9057\n",
      "Epoch 9/10\n",
      "384/384 [==============================] - 1s 2ms/step - loss: 0.5025 - accuracy: 0.8785 - val_loss: 0.4166 - val_accuracy: 0.9178\n",
      "Epoch 10/10\n",
      "384/384 [==============================] - 1s 1ms/step - loss: 0.4543 - accuracy: 0.8890 - val_loss: 0.3702 - val_accuracy: 0.9281\n",
      "95/95 [==============================] - 0s 915us/step - loss: 0.3647 - accuracy: 0.9217\n",
      "Model: \"sequential_4\"\n",
      "_________________________________________________________________\n",
      " Layer (type)                Output Shape              Param #   \n",
      "=================================================================\n",
      " dense_8 (Dense)             (None, 64)                4096      \n",
      "                                                                 \n",
      " dropout_3 (Dropout)         (None, 64)                0         \n",
      "                                                                 \n",
      " dense_9 (Dense)             (None, 26)                1690      \n",
      "                                                                 \n",
      "=================================================================\n",
      "Total params: 5,786\n",
      "Trainable params: 5,786\n",
      "Non-trainable params: 0\n",
      "_________________________________________________________________\n",
      "[0.3647254407405853, 0.9217305183410645]\n"
     ]
    }
   ],
   "source": [
    "#Training\n",
    "x_train_temp=x_train.reshape(-1,63)\n",
    "x_test_temp=x_test.reshape(-1,63)\n",
    "\n",
    "history = model.fit(x_train_temp, labels, epochs=10, batch_size=64, validation_split=0.1)\n",
    "\n",
    "y_cat_test= to_categorical(y_test)\n",
    "\n",
    "loss_and_metrics = model.evaluate(x_test_temp, y_cat_test)\n",
    "\n",
    "model.summary()\n",
    "\n",
    "#model.save(\"model_1.h5\")\n",
    "\n",
    "print(loss_and_metrics)"
   ]
  },
  {
   "cell_type": "markdown",
   "metadata": {},
   "source": [
    "## Result Graphing"
   ]
  },
  {
   "cell_type": "code",
   "execution_count": 78,
   "metadata": {},
   "outputs": [
    {
     "name": "stdout",
     "output_type": "stream",
     "text": [
      "0.03870987892150879\n"
     ]
    }
   ],
   "source": [
    "total_time=0\n",
    "for i in range(1):\n",
    "    start_time=time.time()\n",
    "    model.predict(x_test)\n",
    "    end_time=time.time()\n",
    "    run_time_1=end_time-start_time\n",
    "\n",
    "    start_time=time.time()\n",
    "    model.predict(x_test)\n",
    "    model.predict(x_test)\n",
    "    end_time=time.time()\n",
    "    run_time_2=end_time-start_time\n",
    "\n",
    "    total_time+=(run_time_2-run_time_1)\n",
    "\n",
    "print(total_time/1)\n",
    "\n",
    "\n"
   ]
  },
  {
   "cell_type": "code",
   "execution_count": 24,
   "metadata": {},
   "outputs": [
    {
     "data": {
      "image/png": "[encoded data removed]",
      "text/plain": [
       "<Figure size 432x288 with 2 Axes>"
      ]
     },
     "metadata": {
      "needs_background": "light"
     },
     "output_type": "display_data"
    },
    {
     "data": {
      "image/png": "[encoded data removed]",
      "text/plain": [
       "<Figure size 432x288 with 2 Axes>"
      ]
     },
     "metadata": {
      "needs_background": "light"
     },
     "output_type": "display_data"
    }
   ],
   "source": [
    "\n",
    "plt.subplot(2,1,1)\n",
    "plt.title(\"Graph of Loss & Accuracy vs Epochs of Model D\")\n",
    "plt.plot(history.history[\"loss\"])\n",
    "plt.plot(history.history[\"val_loss\"])\n",
    "plt.legend([\"Loss\", \"Validation Loss\"])\n",
    "plt.xlabel(\"Epochs\")\n",
    "plt.ylabel(\"Loss\")\n",
    "\n",
    "plt.subplot(2,1,2)\n",
    "plt.plot(history.history[\"accuracy\"])\n",
    "plt.plot(history.history[\"val_accuracy\"])\n",
    "plt.legend([\"Accuracy\", \"Validation Accuracy\"])\n",
    "plt.ylabel(\"Accuracy\")\n",
    "plt.xlabel(\"Epochs\")\n",
    "plt.show()\n",
    "\n",
    "\n",
    "y_predict=model.predict(x_test)\n",
    "\n",
    "y_pred=[np.argmax(i) for i in y_predict]\n",
    "\n",
    "cn=confusion_matrix(y_test, y_pred)\n",
    "\n",
    "seaborn.heatmap(cn)\n",
    "plt.xlabel(\"Predict\")\n",
    "plt.ylabel(\"True\")\n",
    "plt.title(\"Confusion Matrix of 26 Gestures Classification of Model D\")\n",
    "plt.show()"
   ]
  }
 ],
 "metadata": {
  "interpreter": {
   "hash": "40d3a090f54c6569ab1632332b64b2c03c39dcf918b08424e98f38b5ae0af88f"
  },
  "kernelspec": {
   "display_name": "Python 3.9.7 ('base')",
   "language": "python",
   "name": "python3"
  },
  "language_info": {
   "codemirror_mode": {
    "name": "ipython",
    "version": 3
   },
   "file_extension": ".py",
   "mimetype": "text/x-python",
   "name": "python",
   "nbconvert_exporter": "python",
   "pygments_lexer": "ipython3",
   "version": "3.9.7"
  },
  "orig_nbformat": 4
 },
 "nbformat": 4,
 "nbformat_minor": 2
}
